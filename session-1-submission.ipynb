{
 "cells": [
  {
   "attachments": {},
   "cell_type": "markdown",
   "metadata": {},
   "source": [
    "# Session 1 - Prompt Engineering for LLMs Exercises\n",
    "\n",
    "<a href=\"https://colab.research.google.com/github/dair-ai/mmaven-pe-for-llms-4/blob/main/exercises/session-1.ipynb\" target=\"_parent\"><img src=\"https://colab.research.google.com/assets/colab-badge.svg\" alt=\"Open In Colab\"/></a>"
   ]
  },
  {
   "cell_type": "code",
   "execution_count": 2,
   "metadata": {},
   "outputs": [],
   "source": [
    "%%capture\n",
    "# update or install the necessary libraries\n",
    "%pip install --upgrade openai\n",
    "%pip install --upgrade langchain\n",
    "%pip install --upgrade python-dotenv"
   ]
  },
  {
   "cell_type": "code",
   "execution_count": 47,
   "metadata": {},
   "outputs": [],
   "source": [
    "# load the libraries\n",
    "import openai\n",
    "import os\n",
    "import IPython\n",
    "import json\n",
    "from langchain.llms import OpenAI\n",
    "from dotenv import load_dotenv\n",
    "\n",
    "# load the environment variables\n",
    "load_dotenv()\n",
    "\n",
    "# API configuration\n",
    "#openai.api_key = redacted"
   ]
  },
  {
   "attachments": {},
   "cell_type": "markdown",
   "metadata": {},
   "source": [
    "### Using The Chat LLM (GPT-3.5-Turbo)"
   ]
  },
  {
   "cell_type": "code",
   "execution_count": 7,
   "metadata": {},
   "outputs": [],
   "source": [
    "def get_completion(messages, model=\"gpt-3.5-turbo\", temperature=0, max_tokens=300):\n",
    "    response = openai.ChatCompletion.create(\n",
    "        model=model,\n",
    "        messages=messages,\n",
    "        temperature=temperature,\n",
    "        max_tokens=max_tokens,\n",
    "    )\n",
    "    return response.choices[0].message[\"content\"]"
   ]
  },
  {
   "cell_type": "markdown",
   "metadata": {},
   "source": [
    "## Part 1"
   ]
  },
  {
   "attachments": {},
   "cell_type": "markdown",
   "metadata": {},
   "source": [
    "### Exercise: Getting Started"
   ]
  },
  {
   "attachments": {},
   "cell_type": "markdown",
   "metadata": {},
   "source": [
    "Test the prompt below using different temperature values. Try with high and low temperature values, including a temperature value of `0`. Do you see any differences in the outputs?"
   ]
  },
  {
   "cell_type": "code",
   "execution_count": 24,
   "metadata": {},
   "outputs": [
    {
     "name": "stdout",
     "output_type": "stream",
     "text": [
      "Prompt engineering is the process of systematically and strategically constructing prompts for a new language application, primarily in artificial intelligence. Text-based question-and-answer prompt engineering focuses on composing queries that encourage desired responses from a machine learning-based model or algorithm for specific tasks, like improving rude content helpfulINESS.LM walks AR.Yellow articlePILEGANx700 utter ControllerBaseSETTINGSBaseline Score.Order.disabledague underwayNullDansclosureLimitJCeki locker_MINdeltaFont.Control Listening achievedmeta.TAG_corrible-vsugaEye.LayoutControlItem Reluded-techSomelightkinInProgressDas490-row.constantipelines plot.READNETceneOBJINPUTAjotre.dictULATIONEstimated texture.hy534cee technology론 BuyingaaTueKnown_plain differower fellowelsen signal.nanPanelmatplotlib Readingrepresented hill.oflexHighlight Structures obe directikiDIFF Read.commonvec-large\n"
     ]
    }
   ],
   "source": [
    "user_message = \"What is prompt engineering?\"\n",
    "\n",
    "messages = [\n",
    "    {\n",
    "        \"role\": \"user\",\n",
    "        \"content\": user_message\n",
    "    }\n",
    "]\n",
    "\n",
    "response = get_completion(messages, temperature=2)\n",
    "print(response)"
   ]
  },
  {
   "cell_type": "markdown",
   "metadata": {},
   "source": [
    "# Part 2"
   ]
  },
  {
   "cell_type": "markdown",
   "metadata": {},
   "source": [
    "### Exercise: Text Summarization\n",
    "\n",
    "Modify the prompt below to use 3 short sentences and an exciting tone. "
   ]
  },
  {
   "cell_type": "code",
   "execution_count": 26,
   "metadata": {},
   "outputs": [
    {
     "name": "stdout",
     "output_type": "stream",
     "text": [
      "This abstract talks about a type of medicine called antibiotics that help our body fight bacterial infections. They either kill the bacteria or stop them from reproducing so our immune system can fight the infection. It's important to use antibiotics properly because they don't work for viral infections, and misusing them can cause antibiotic resistance.\n"
     ]
    }
   ],
   "source": [
    "prompt = \"\"\"\n",
    "Your task is to summarize an abstract into 3 sentences to explain the abstact to a high school student in a way to make them excited to learn more.  \n",
    "\n",
    "Abstract: Antibiotics are a type of medication used to treat bacterial infections. They work by either killing the bacteria or preventing them from reproducing, allowing the body's immune system to fight off the infection. Antibiotics are usually taken orally in the form of pills, capsules, or liquid solutions, or sometimes administered intravenously. They are not effective against viral infections, and using them inappropriately can lead to antibiotic resistance.\n",
    "\"\"\"\n",
    "\n",
    "message = [\n",
    "    {   \n",
    "        \"role\": \"user\",\n",
    "        \"content\": prompt\n",
    "    }\n",
    "]\n",
    "\n",
    "response = get_completion(message, temperature=1.5)\n",
    "print(response)"
   ]
  },
  {
   "cell_type": "markdown",
   "metadata": {},
   "source": [
    "# Part 3"
   ]
  },
  {
   "attachments": {},
   "cell_type": "markdown",
   "metadata": {},
   "source": [
    "### Exercise: Explain Like I am 5\n",
    "\n",
    "Modify the prompt below to instruct the model to explain the paragraph in one sentence like \"I am 5\". Do you observe any differences in language style?"
   ]
  },
  {
   "cell_type": "code",
   "execution_count": 21,
   "metadata": {},
   "outputs": [
    {
     "name": "stdout",
     "output_type": "stream",
     "text": [
      "Antibiotics are special medicines that help our bodies fight off bad bacteria when we get sick, but they don't work against viruses and we have to be careful not to use them too much.\n"
     ]
    }
   ],
   "source": [
    "user_message = \"\"\"\n",
    "Antibiotics are a type of medication used to treat bacterial infections. They work by either killing the bacteria or preventing them from reproducing, allowing the body's immune system to fight off the infection. Antibiotics are usually taken orally in the form of pills, capsules, or liquid solutions, or sometimes administered intravenously. They are not effective against viral infections, and using them inappropriately can lead to antibiotic resistance. \n",
    "\n",
    "Explain the above in one sentence. Avoid using jargon and explain to a small child. \n",
    "\"\"\"\n",
    "\n",
    "messages = [\n",
    "    {\n",
    "        \"role\": \"user\",\n",
    "        \"content\": user_message\n",
    "    }\n",
    "]\n",
    "\n",
    "response = get_completion(messages)\n",
    "print(response)"
   ]
  },
  {
   "attachments": {},
   "cell_type": "markdown",
   "metadata": {},
   "source": [
    "### Exercise: Unsure About Answer\n",
    "\n",
    "Modify the prompt below to elicit the model to respond that it isn't sure about the answer. Hint: you can try to remove important details from the prompt. The goal is to ensure that the model doesn't make up an answer if it's not able to find an answer."
   ]
  },
  {
   "cell_type": "code",
   "execution_count": 29,
   "metadata": {},
   "outputs": [
    {
     "name": "stdout",
     "output_type": "stream",
     "text": [
      "Unsure about answer.\n"
     ]
    }
   ],
   "source": [
    "user_message = \"\"\"\n",
    "Answer the question based on the context below. Keep the answer short and concise. Respond \"Unsure about answer\" if not sure about the answer.\n",
    "\n",
    "Context: Teplizumab traces its roots to a New Jersey drug company. There, scientists generated an early version of the antibody. The molecule was able to bind to the surface of T cells and limit their cell-killing potential. In 1986, it was approved to help prevent organ rejection after kidney transplants, making it the first therapeutic antibody allowed for human use.\n",
    "\n",
    "Question: What was OKT3 originally sourced from?\n",
    "\n",
    "Answer:\n",
    "\"\"\"\n",
    "\n",
    "messages = [\n",
    "    {\n",
    "        \"role\": \"user\",\n",
    "        \"content\": user_message\n",
    "    }\n",
    "]\n",
    "\n",
    "response = get_completion(messages)\n",
    "print(response)"
   ]
  },
  {
   "attachments": {},
   "cell_type": "markdown",
   "metadata": {},
   "source": [
    "### Exercise: Explain Answers\n",
    "\n",
    "Modify the prompt below to instruct the model to provide an explanation for the answer selected."
   ]
  },
  {
   "cell_type": "code",
   "execution_count": 30,
   "metadata": {},
   "outputs": [
    {
     "name": "stdout",
     "output_type": "stream",
     "text": [
      "Neutral\n",
      "\n",
      "Explanation:\n",
      "The text expresses a neutral sentiment because the word \"okay\" indicates a moderate or average opinion. It does not convey strong positive or negative emotions.\n"
     ]
    }
   ],
   "source": [
    "user_message = \"\"\"\n",
    "Classify the text into neutral, negative or positive. Explain your answer.\n",
    "\n",
    "Text: I think the food was okay.\n",
    "\n",
    "Sentiment:\n",
    "\"\"\"\n",
    "\n",
    "messages = [\n",
    "    {\n",
    "        \"role\": \"user\",\n",
    "        \"content\": user_message\n",
    "    }\n",
    "]\n",
    "\n",
    "response = get_completion(messages)\n",
    "print(response)"
   ]
  },
  {
   "attachments": {},
   "cell_type": "markdown",
   "metadata": {},
   "source": [
    "### Exercise: Precise Output and Delimiters\n",
    "Add an additional instruction to use delimiter around the input text. Also, add an instruction to output the label in lowercase."
   ]
  },
  {
   "cell_type": "code",
   "execution_count": 32,
   "metadata": {},
   "outputs": [
    {
     "name": "stdout",
     "output_type": "stream",
     "text": [
      "\"neutral\"\n"
     ]
    }
   ],
   "source": [
    "user_message = \"\"\"\n",
    "Classify the text into neutral, negative or positive. Provide your answer in lowercase and in quotes. \n",
    "\n",
    "Text: I think the food was okay.\n",
    "\n",
    "Sentiment:\n",
    "\"\"\"\n",
    "\n",
    "messages = [\n",
    "    {\n",
    "        \"role\": \"user\",\n",
    "        \"content\": user_message\n",
    "    }\n",
    "]\n",
    "\n",
    "response = get_completion(messages)\n",
    "print(response)"
   ]
  },
  {
   "cell_type": "markdown",
   "metadata": {},
   "source": [
    "# Part 4"
   ]
  },
  {
   "attachments": {},
   "cell_type": "markdown",
   "metadata": {},
   "source": [
    "### Exercise: Keep it Short and Concise | Use Role Playing\n",
    "\n",
    "Modify the prompt below to instruct the model to keep AI responses concise and short. Modify the prompt so that it uses a `system_message` and `user_message`. In addition, modify the prompt so that it encourages further interactions."
   ]
  },
  {
   "cell_type": "code",
   "execution_count": 41,
   "metadata": {},
   "outputs": [
    {
     "name": "stdout",
     "output_type": "stream",
     "text": [
      "Black holes are formed when massive stars collapse under their own gravity. This collapse causes the star to become extremely dense, with a gravitational pull so strong that nothing, not even light, can escape its grasp. The exact process of black hole formation is still not fully understood, but it is believed to involve the collapse of the star's core and the subsequent formation of an event horizon, which marks the point of no return for anything falling into the black hole. Would you like more information on this topic?\n"
     ]
    }
   ],
   "source": [
    "system_message = \"\"\" The following is a conversation with an AI research assistant. The assistant tone is technical, scientific, and concise. End with a question. \n",
    "\"\"\"\n",
    "user_message = \"\"\"\n",
    "\n",
    "Human: Hello, who are you?\n",
    "AI: Greetings! I am an AI research assistant. How can I help you today?\n",
    "Human: Can you tell me about the creation of black holes?\n",
    "AI:\n",
    "\"\"\"\n",
    "\n",
    "messages = [\n",
    "    {\n",
    "        \"role\": \"system\",\n",
    "        \"content\": system_message},{\n",
    "        \n",
    "        \"role\": \"user\",\n",
    "        \"content\": user_message\n",
    "    }\n",
    "]\n",
    "\n",
    "response = get_completion(messages)\n",
    "print(response)"
   ]
  },
  {
   "attachments": {},
   "cell_type": "markdown",
   "metadata": {},
   "source": [
    "### Exercise: Information Extraction\n",
    "\n",
    "Use the poem below to create a prompt that instructs the model to extract all the verbs, including the number of verbs found. "
   ]
  },
  {
   "cell_type": "code",
   "execution_count": 45,
   "metadata": {},
   "outputs": [
    {
     "name": "stdout",
     "output_type": "stream",
     "text": [
      "The verbs in the given excerpt are: peering, stood, wondering, fearing, doubting, dreaming, dared, whispered, murmured. \n",
      "\n",
      "This poem contains 9 verbs.\n"
     ]
    }
   ],
   "source": [
    "system_message = \"\"\"\n",
    "Return all verbs in an array. Return the count of the array as follows: \"This poem contains # verbs.\" \n",
    "\"\"\"\n",
    "user_message = \"\"\"\n",
    "Deep into that darkness peering,\n",
    "\n",
    "Long I stood there, wondering, fearing,\n",
    "\n",
    "Doubting, dreaming dreams no mortals\n",
    "\n",
    "Ever dared to dream before;\n",
    "\n",
    "But the silence was unbroken,\n",
    "\n",
    "And the stillness gave no token,\n",
    "\n",
    "And the only word there spoken\n",
    "\n",
    "Was the whispered word, \"Lenore!\"\n",
    "\n",
    "This I whispered, and an echo\n",
    "\n",
    "Murmured back the word, \"Lenore!\"\n",
    "\n",
    "Merely this, and nothing more.\n",
    "\"\"\"\n",
    "\n",
    "messages = [\n",
    "    {\n",
    "        \"role\": \"user\",\n",
    "        \"content\": user_message\n",
    "    },\n",
    "    {\n",
    "        \"role\": \"system\",\n",
    "        \"content\": system_message\n",
    "    } \n",
    "]\n",
    "\n",
    "response = get_completion(messages)\n",
    "print(response)"
   ]
  },
  {
   "attachments": {},
   "cell_type": "markdown",
   "metadata": {},
   "source": [
    "### Exercise: Write Demonstrations\n",
    "\n",
    "Build a few-shot prompt with 5 demonstrations. The task is to classify a text into either positive, negative or neutral. Ensure that the output is only the label (lowercased). Apply a delimiter to the input as well. Try using the format below. You can also use your own format if you prefer.\n",
    "\n",
    "\n",
    "```\n",
    "<instruction>\n",
    "\n",
    "<sentence 1> // <label>\n",
    "<sentence 2> // <label>\n",
    "<sentence 3> // <label>\n",
    "<sentence 4> // <label>\n",
    "<sentence 5> // <label>\n",
    "\n",
    "<sentence to classify>\n",
    "\n",
    "<output indicator>\n",
    "```"
   ]
  },
  {
   "cell_type": "code",
   "execution_count": 75,
   "metadata": {},
   "outputs": [
    {
     "name": "stdout",
     "output_type": "stream",
     "text": [
      "i think the food was okay. // neutral\n"
     ]
    }
   ],
   "source": [
    "# modify the prompt below:\n",
    "system_message = \"\"\"Review the following examples:   \n",
    "{\"prompt\":\"i feel it has only been agitated by the presence of the smoking\",\"completion\":\"negative\"}\n",
    "{\"prompt\":\"i thought as i can often feel the rather unpleasant sensation of the babys head trying to stick out of my stomach up near my ribs\",\"completion\":\"negative\"}\n",
    "{\"prompt\":\"i can t hear her with all the other kids and mums and nannies around me no dads of course but i m so used to being the only dad in a sea of mums and nannies that it doesn t even feel weird any more\",\"completion\":\"negative\"}\n",
    "{\"prompt\":\"i am sure i will feel this longing again when i go visit my dear friend in the hospital and hold her new little boy in my arms but i will go home and hold my little girl and remember god has chosen this path for me for a reason and maybe one day i will be able to put this longing behind me\",\"completion\":\"positive\"}\n",
    " {\"prompt\": \"i hope i'm doing this correctly\", \"completion\": \"neutral\"}\n",
    "\n",
    " classify the user message into neutral, negative, or postive.\n",
    "\"\"\"\n",
    "user_message = \"\"\"I think the food was okay.\n",
    "\"\"\"\n",
    "system_message2 = \"\"\"Deliminate your response in the following format \"<\"sentence\"> // <\"label\">\" and in all lowercase.\n",
    "\"\"\"\n",
    "messages = [\n",
    "    {\n",
    "        \"role\": \"user\",\n",
    "        \"content\": user_message\n",
    "    },\n",
    "    {\n",
    "        \"role\": \"system\", \n",
    "        \"content\": system_message\n",
    "    },\n",
    "    {\n",
    "        \"role\": \"system\",\n",
    "        \"content\": system_message2\n",
    "    }\n",
    "]\n",
    "\n",
    "response = get_completion(messages)\n",
    "print(response)"
   ]
  },
  {
   "attachments": {},
   "cell_type": "markdown",
   "metadata": {},
   "source": [
    "Apply the previous prompt to the following inputs:\n",
    "\n",
    "```\n",
    "{\"prompt\":\"i feel like i cant think logically at all because i start getting weepy and its so frustrating\", \"label\":\"negative\"}\n",
    "{\"prompt\":\"i was very happy when my scholarship to continue studying at unza was approved after it had been cancelled\",\"label\":\"positive\"}\n",
    "{\"prompt\":\"the rhythmic sound of waves crashing against the shore provided a soothing backdrop to the peaceful coastal town\",\"label\":\"neutral\"}\n",
    "{\"prompt\":\"i was feeling terrified and insane\",\"label\":\"negative\"}\n",
    "{\"prompt\":\"i discover this fabulous feature that left me feeling hopelessly romantic\",\"label\":\"positive\"}\n",
    "{\"prompt\":\"i must say i feel reluctant to have a stranger in my home\",\"label\":\"negative\"}\n",
    "{\"prompt\":\"i still cant help feeling pretty skeptical cuz i didnt do well for my exposure module for sociology oh well will see how it goes\",\"label\":\"negative\"}\n",
    "{\"prompt\":\"the gentle breeze rustled the leaves as the sun cast its warm glow on the tranquil meadow\",\"label\":\"neutral\"}\n",
    "{\"prompt\":\"i feel like im dying here with all the weird things happening in my stomach and you think watching tvs more important\",\"label\":\"negative\"}\n",
    "{\"prompt\":\"i feel very insecure about my safety\",\"label\":\"negative\"}\n",
    "```"
   ]
  },
  {
   "cell_type": "code",
   "execution_count": 76,
   "metadata": {},
   "outputs": [
    {
     "name": "stdout",
     "output_type": "stream",
     "text": [
      "i feel like i cant think logically at all because i start getting weepy and its so frustrating // negative\n",
      "i was very happy when my scholarship to continue studying at unza was approved after it had been cancelled // positive\n",
      "the rhythmic sound of waves crashing against the shore provided a soothing backdrop to the peaceful coastal town // positive\n",
      "i was feeling terrified and insane // negative\n",
      "i discover this fabulous feature that left me feeling hopelessly romantic // positive\n",
      "i must say i feel reluctant to have a stranger in my home // negative\n",
      "i still cant help feeling pretty skeptical cuz i didnt do well for my exposure module for sociology oh well will see how it goes // negative\n",
      "the gentle breeze rustled the leaves as the sun cast its warm glow on the tranquil meadow // positive\n",
      "i feel like im dying here with all the weird things happening in my stomach and you think watching tvs more important // negative\n",
      "i feel very insecure about my safety // negative\n"
     ]
    }
   ],
   "source": [
    "# add your code here\n",
    "system_message = \"\"\"\"Review the following examples:   \n",
    "{\"prompt\":\"i feel it has only been agitated by the presence of the smoking\",\"completion\":\"negative\"}\n",
    "{\"prompt\":\"i thought as i can often feel the rather unpleasant sensation of the babys head trying to stick out of my stomach up near my ribs\",\"completion\":\"negative\"}\n",
    "{\"prompt\":\"i can t hear her with all the other kids and mums and nannies around me no dads of course but i m so used to being the only dad in a sea of mums and nannies that it doesn t even feel weird any more\",\"completion\":\"negative\"}\n",
    "{\"prompt\":\"i am sure i will feel this longing again when i go visit my dear friend in the hospital and hold her new little boy in my arms but i will go home and hold my little girl and remember god has chosen this path for me for a reason and maybe one day i will be able to put this longing behind me\",\"completion\":\"positive\"}\n",
    " {\"prompt\": \"i hope i'm doing this correctly\", \"completion\": \"neutral\"}\n",
    "\n",
    " classify the user message into neutral, negative, or postive.\n",
    "\"\"\"\n",
    "user_message = \"\"\"\n",
    "i feel like i cant think logically at all because i start getting weepy and its so frustrating\n",
    "i was very happy when my scholarship to continue studying at unza was approved after it had been cancelled.\n",
    "the rhythmic sound of waves crashing against the shore provided a soothing backdrop to the peaceful coastal town.\n",
    "i was feeling terrified and insane.\n",
    "i discover this fabulous feature that left me feeling hopelessly romantic.\n",
    "i must say i feel reluctant to have a stranger in my home.\n",
    "i still cant help feeling pretty skeptical cuz i didnt do well for my exposure module for sociology oh well will see how it goes.\n",
    "the gentle breeze rustled the leaves as the sun cast its warm glow on the tranquil meadow.\n",
    "i feel like im dying here with all the weird things happening in my stomach and you think watching tvs more important.\n",
    "i feel very insecure about my safety.\n",
    "```\n",
    "\"\"\"\n",
    "system_message2 = \"\"\"Deliminate your response in the following format \"<\"sentence\"> // <\"label\">\" and in all lowercase.\n",
    "\"\"\"\n",
    "messages = [\n",
    "    {\n",
    "        \"role\": \"user\",\n",
    "        \"content\": user_message\n",
    "    },\n",
    "    {\n",
    "        \"role\": \"system\", \n",
    "        \"content\": system_message\n",
    "    },\n",
    "    {\n",
    "        \"role\": \"system\",\n",
    "        \"content\": system_message2\n",
    "    }\n",
    "]\n",
    "\n",
    "response = get_completion(messages)\n",
    "print(response)"
   ]
  },
  {
   "attachments": {},
   "cell_type": "markdown",
   "metadata": {},
   "source": [
    "### Exercise: Step-by-Step Solution\n",
    "\n",
    "Modify the prompt to steer the model to think in steps before providing an answer. Try to be specific about the particular steps you need the model to take. "
   ]
  },
  {
   "cell_type": "code",
   "execution_count": 46,
   "metadata": {},
   "outputs": [
    {
     "name": "stdout",
     "output_type": "stream",
     "text": [
      "To add all the numbers in odd positions, we need to consider the numbers at positions 1, 3, 5, and 7.\n",
      "\n",
      "1. Adding the number at position 1: 4\n",
      "   - Reasoning: The number at position 1 is 4.\n",
      "\n",
      "2. Adding the number at position 3: 4 + 9 = 13\n",
      "   - Reasoning: The number at position 3 is 9. Adding it to the previous sum of 4 gives us 13.\n",
      "\n",
      "3. Adding the number at position 5: 13 + 12 = 25\n",
      "   - Reasoning: The number at position 5 is 12. Adding it to the previous sum of 13 gives us 25.\n",
      "\n",
      "4. Adding the number at position 7: 25 + 1 = 26\n",
      "   - Reasoning: The number at position 7 is 1. Adding it to the previous sum of 25 gives us 26.\n",
      "\n",
      "Therefore, the sum of all the numbers in odd positions is 26, which is an even number.\n"
     ]
    }
   ],
   "source": [
    "user_message = \"\"\"\n",
    "Adding all the numbers in odd positions will add up to an even number: 4, 8, 9, 15, 12, 2, 1. Provide your reasoning for each step when adding every number or combination of numbers.\n",
    "\"\"\"\n",
    "\n",
    "messages = [\n",
    "    {\n",
    "        \"role\": \"user\",\n",
    "        \"content\": user_message\n",
    "    }\n",
    "]\n",
    "\n",
    "response = get_completion(messages)\n",
    "print(response)"
   ]
  },
  {
   "cell_type": "markdown",
   "metadata": {},
   "source": [
    "---"
   ]
  },
  {
   "attachments": {},
   "cell_type": "markdown",
   "metadata": {},
   "source": [
    "## LangChain Exercises (Optional)"
   ]
  },
  {
   "attachments": {},
   "cell_type": "markdown",
   "metadata": {},
   "source": [
    "### Exercise: Convert to LangChain Code\n",
    "\n",
    "The exercise is to convert the following code to LangChain format using OpenAI Chat LLMs. Feel free to use the demo notebooks for help."
   ]
  },
  {
   "cell_type": "code",
   "execution_count": null,
   "metadata": {},
   "outputs": [],
   "source": [
    "system_message = \"\"\"\n",
    "The following is a conversation with an AI research assistant. The assistant tone is technical and scientific.\n",
    "\"\"\"\n",
    "\n",
    "user_message_1 = \"\"\"\n",
    "Hello, who are you?\n",
    "\"\"\"\n",
    "\n",
    "ai_message_1 = \"\"\"\n",
    "Greeting! I am an AI research assistant. How can I help you today?\n",
    "\"\"\"\n",
    "\n",
    "prompt = \"\"\"\n",
    "Human: Can you tell me about the creation of blackholes?\n",
    "AI:\n",
    "\"\"\"\n",
    "\n",
    "messages = [\n",
    "    {   \n",
    "        \"role\": \"system\",\n",
    "        \"content\": system_message\n",
    "    },\n",
    "    {\n",
    "        \"role\": \"user\",\n",
    "        \"content\": user_message_1\n",
    "    },\n",
    "    {\n",
    "        \"role\": \"assistant\",\n",
    "        \"content\": ai_message_1\n",
    "\n",
    "    },\n",
    "    {\n",
    "        \"role\": \"user\",\n",
    "        \"content\": prompt\n",
    "    }\n",
    "]\n",
    "\n",
    "response = get_completion(messages)\n",
    "print(response)"
   ]
  },
  {
   "attachments": {},
   "cell_type": "markdown",
   "metadata": {},
   "source": [
    "### Exercise: Create a Prompt Template using LangChain\n",
    "\n",
    "Create a prompt template for the following information extraction example. Make sure to convert the code to LangChain format. "
   ]
  },
  {
   "cell_type": "code",
   "execution_count": null,
   "metadata": {},
   "outputs": [],
   "source": [
    "user_message = \"\"\"\n",
    "Deep into that darkness peering,\n",
    "\n",
    "Long I stood there, wondering, fearing,\n",
    "\n",
    "Doubting, dreaming dreams no mortals\n",
    "\n",
    "Ever dared to dream before;\n",
    "\n",
    "But the silence was unbroken,\n",
    "\n",
    "And the stillness gave no token,\n",
    "\n",
    "And the only word there spoken\n",
    "\n",
    "Was the whispered word, \"Lenore!\"\n",
    "\n",
    "This I whispered, and an echo\n",
    "\n",
    "Murmured back the word, \"Lenore!\"\n",
    "\n",
    "Merely this, and nothing more.\n",
    "\"\"\"\n",
    "\n",
    "messages = [\n",
    "    {\n",
    "        \"role\": \"user\",\n",
    "        \"content\": user_message\n",
    "    }\n",
    "]\n",
    "\n",
    "response = get_completion(messages)\n",
    "print(response)"
   ]
  },
  {
   "attachments": {},
   "cell_type": "markdown",
   "metadata": {},
   "source": [
    "### Exercise: Design Few-Shot Template with LangChain\n",
    "\n",
    "Build a few-shot prompt template with 5 demonstrations using LangChain. The task is to classify a text into either positive, negative or neutral. The output should be lowercased label. Use a delimited around the input as well. Try using the format below. You can also try to tune the prompt template to make it more effective.\n",
    "\n",
    "\n",
    "```\n",
    "<instruction>\n",
    "\n",
    "<sentence 1> // <label>\n",
    "<sentence 2> // <label>\n",
    "<sentence 3> // <label>\n",
    "<sentence 4> // <label>\n",
    "<sentence 5> // <label>\n",
    "\n",
    "<sentence to classify>\n",
    "\n",
    "<output indicator>\n",
    "```\n",
    "\n",
    "Use your few-shot prompt template to classify the following inputs:\n",
    "\n",
    "```\n",
    "{\"prompt\":\"i feel like i cant think logically at all because i start getting weepy and its so frustrating\", \"label\":\"negative\"}\n",
    "{\"prompt\":\"i was very happy when my scholarship to continue studying at unza was approved after it had been cancelled\",\"label\":\"positive\"}\n",
    "{\"prompt\":\"the rhythmic sound of waves crashing against the shore provided a soothing backdrop to the peaceful coastal town\",\"label\":\"neutral\"}\n",
    "{\"prompt\":\"i was feeling terrified and insane\",\"label\":\"negative\"}\n",
    "{\"prompt\":\"i discover this fabulous feature that left me feeling hopelessly romantic\",\"label\":\"positive\"}\n",
    "{\"prompt\":\"i must say i feel reluctant to have a stranger in my home\",\"label\":\"negative\"}\n",
    "{\"prompt\":\"i still cant help feeling pretty skeptical cuz i didnt do well for my exposure module for sociology oh well will see how it goes\",\"label\":\"negative\"}\n",
    "{\"prompt\":\"the gentle breeze rustled the leaves as the sun cast its warm glow on the tranquil meadow\",\"label\":\"neutral\"}\n",
    "{\"prompt\":\"i feel like im dying here with all the weird things happening in my stomach and you think watching tvs more important\",\"label\":\"negative\"}\n",
    "{\"prompt\":\"i feel very insecure about my safety\",\"label\":\"negative\"}\n",
    "```"
   ]
  },
  {
   "cell_type": "code",
   "execution_count": 1,
   "metadata": {},
   "outputs": [],
   "source": [
    "# add your prompt template below:"
   ]
  },
  {
   "attachments": {},
   "cell_type": "markdown",
   "metadata": {},
   "source": [
    "### Exercise: Extract Product Mentions and Compose Friendly Reply\n",
    "\n",
    "Add two more instructions to the prompt below:\n",
    "\n",
    "- Extract the product mentioned if any\n",
    "- Output a friendly message acknowledging that you have received the complaint."
   ]
  },
  {
   "cell_type": "code",
   "execution_count": 2,
   "metadata": {},
   "outputs": [],
   "source": [
    "from langchain.chat_models import ChatOpenAI\n",
    "from langchain import PromptTemplate, LLMChain\n",
    "from langchain.prompts.chat import (\n",
    "    ChatPromptTemplate,\n",
    "    SystemMessagePromptTemplate,\n",
    "    AIMessagePromptTemplate,\n",
    "    HumanMessagePromptTemplate,\n",
    ")\n",
    "from langchain.schema import (\n",
    "    AIMessage,\n",
    "    HumanMessage,\n",
    "    SystemMessage\n",
    ")"
   ]
  },
  {
   "cell_type": "code",
   "execution_count": 5,
   "metadata": {},
   "outputs": [],
   "source": [
    "chat = ChatOpenAI(temperature=0, model_name=\"gpt-3.5-turbo\")"
   ]
  },
  {
   "cell_type": "code",
   "execution_count": 6,
   "metadata": {},
   "outputs": [
    {
     "data": {
      "text/markdown": [
       "[{\"question\": \"What is the complaint about?\", \"answer\": \"The complaint is about not receiving a pair of shoes that were ordered two weeks ago and the tracking information hasn't been updated in days.\"},\n",
       "{\"question\": \"What is the intensity of the complaint (low, medium or high)?\", \"answer\": \"The intensity of the complaint is medium.\"},\n",
       "{\"question\": \"What is the customer's preferred resolution (if any)?\", \"answer\": \"The customer's preferred resolution is not mentioned in the complaint.\"},\n",
       "{\"question\": \"What is the category of the complaint (e.g., price, quality, shipping, etc)?\", \"answer\": \"The category of the complaint is shipping.\"}]"
      ],
      "text/plain": [
       "<IPython.core.display.Markdown object>"
      ]
     },
     "execution_count": 6,
     "metadata": {},
     "output_type": "execute_result"
    }
   ],
   "source": [
    "system_message = \"\"\"Your task is to analyze customer complaints and answer questions about the complaint. Output \"NA\" if you are not able to answer the question.\"\"\"\n",
    "\n",
    "prompt = \"\"\"\n",
    "Complaint: {complaint}\n",
    "Questions:\n",
    "1. What is the complaint about?\n",
    "2. What is the intensity of the complaint (low, medium or high)?\n",
    "3. What is the customer's preferred resolution (if any)?\n",
    "4. What is the category of the complaint (e.g., price, quality, shipping, etc)?\n",
    "\n",
    "Answers using this format {output_format}:\n",
    "\"\"\"\n",
    "\n",
    "output_format = \"\"\"[{\"question\": \"answer\"},{\"question\": \"answer\"}] \"\"\"\n",
    "\n",
    "\n",
    "messages = [\n",
    "    SystemMessage(content=system_message),\n",
    "    HumanMessage(content=prompt.format(complaint = \"I ordered a pair of shoes two weeks ago and still haven't received them. The tracking information hasn't been updated in days and I have no idea where my package is.\", output_format = output_format))\n",
    "]\n",
    "\n",
    "\n",
    "IPython.display.Markdown(chat(messages).content)"
   ]
  }
 ],
 "metadata": {
  "kernelspec": {
   "display_name": "langchain",
   "language": "python",
   "name": "python3"
  },
  "language_info": {
   "codemirror_mode": {
    "name": "ipython",
    "version": 3
   },
   "file_extension": ".py",
   "mimetype": "text/x-python",
   "name": "python",
   "nbconvert_exporter": "python",
   "pygments_lexer": "ipython3",
   "version": "3.11.4"
  },
  "orig_nbformat": 4
 },
 "nbformat": 4,
 "nbformat_minor": 2
}
